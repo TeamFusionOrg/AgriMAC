{
 "cells": [
  {
   "cell_type": "code",
   "execution_count": 1,
   "id": "af2688e0",
   "metadata": {},
   "outputs": [],
   "source": [
    "message = \"Hello There\""
   ]
  },
  {
   "cell_type": "code",
   "execution_count": 2,
   "id": "481bdd5c",
   "metadata": {},
   "outputs": [],
   "source": [
    "import cryption"
   ]
  },
  {
   "cell_type": "code",
   "execution_count": 3,
   "id": "1024966f",
   "metadata": {},
   "outputs": [],
   "source": [
    "data = cryption.encrypt(message)"
   ]
  },
  {
   "cell_type": "code",
   "execution_count": 4,
   "id": "309d3b36",
   "metadata": {},
   "outputs": [
    {
     "data": {
      "text/plain": [
       "'Ifmmp!Uifsf'"
      ]
     },
     "execution_count": 4,
     "metadata": {},
     "output_type": "execute_result"
    }
   ],
   "source": [
    "data"
   ]
  },
  {
   "cell_type": "code",
   "execution_count": 5,
   "id": "9056a747",
   "metadata": {},
   "outputs": [
    {
     "data": {
      "text/plain": [
       "'Hello There'"
      ]
     },
     "execution_count": 5,
     "metadata": {},
     "output_type": "execute_result"
    }
   ],
   "source": [
    "cryption.decrypt(data)"
   ]
  },
  {
   "cell_type": "code",
   "execution_count": null,
   "id": "a8ce4044",
   "metadata": {},
   "outputs": [],
   "source": []
  },
  {
   "cell_type": "code",
   "execution_count": null,
   "id": "463b5df4",
   "metadata": {},
   "outputs": [],
   "source": []
  },
  {
   "cell_type": "code",
   "execution_count": null,
   "id": "6b17c465",
   "metadata": {},
   "outputs": [],
   "source": []
  },
  {
   "cell_type": "code",
   "execution_count": 7,
   "id": "f71ab8be",
   "metadata": {},
   "outputs": [],
   "source": [
    "from os import remove\n",
    "from sys import argv\n",
    "from base64 import urlsafe_b64encode\n",
    "from cryptography.fernet import Fernet\n",
    "from cryptography.hazmat.backends import default_backend\n",
    "from cryptography.hazmat.primitives import hashes\n",
    "from cryptography.hazmat.primitives.kdf.pbkdf2 import PBKDF2HMAC"
   ]
  },
  {
   "cell_type": "code",
   "execution_count": 20,
   "id": "83c75bea",
   "metadata": {},
   "outputs": [],
   "source": [
    "def key_gen(passwd):\n",
    "    # convert passwd to bytes\n",
    "    passwd = passwd.encode('utf-8')\n",
    "    # create a random salt from os\n",
    "    salt = b'\\xd1\\xafy\\x8d\\xd1/\\xa1Pv4\\xea\\xf1-1\\xe0~\\xb2$\\x17D\\xdd\\xa7\\x8fwrmd\\x02\\x7f`f:'\n",
    "    # create kdf instance\n",
    "    kdf = PBKDF2HMAC(\n",
    "        algorithm=hashes.SHA256(),\n",
    "        length=32,\n",
    "        salt=salt,\n",
    "        iterations=100000,\n",
    "        backend=default_backend()\n",
    "    )\n",
    "    # derive an key prom the passwd\n",
    "    key = urlsafe_b64encode(kdf.derive(passwd))\n",
    "    #return key\n",
    "    return key"
   ]
  },
  {
   "cell_type": "code",
   "execution_count": 26,
   "id": "d33300eb",
   "metadata": {},
   "outputs": [],
   "source": [
    "def decrypt_msg(message, key):\n",
    "    \"\"\"\n",
    "    DOCSTRING: This function will return the decrypted message as bytes\n",
    "    message: the message to decrypt as bytes\n",
    "    key: key for decryption as bytes\n",
    "    \"\"\"\n",
    "    fernet_obj = Fernet(key) # create fernet obj\n",
    "    original_content = fernet_obj.decrypt(message)\n",
    "\n",
    "    return original_content"
   ]
  },
  {
   "cell_type": "code",
   "execution_count": 27,
   "id": "e33e2d35",
   "metadata": {},
   "outputs": [],
   "source": [
    "def encrypt_msg(message, key):\n",
    "    \"\"\"\n",
    "    DOCSTRING: This function will return the encrypted message as bytes\n",
    "    message: the message to encrypt as bytes\n",
    "    key: key for encryption as bytes\n",
    "    \"\"\"\n",
    "    fernet_obj = Fernet(key)\n",
    "    encrypted_message = fernet_obj.encrypt(message)\n",
    "\n",
    "    return encrypted_message"
   ]
  },
  {
   "cell_type": "code",
   "execution_count": 28,
   "id": "573d8e9c",
   "metadata": {},
   "outputs": [],
   "source": [
    "passwd = 'A4nJ!dk@12en#jfdk*kjns.sdjk'\n",
    "key = key_gen(passwd)"
   ]
  },
  {
   "cell_type": "code",
   "execution_count": 29,
   "id": "26568fa8",
   "metadata": {},
   "outputs": [
    {
     "data": {
      "text/plain": [
       "b'gAAAAABidlKX15g49_KVO5zi1vel9NApWOepaZUaKbM1d7frpt2lDuevqG-4n7mvLfyMB7JR6KbbGRiSwERHlXJsMzgRdMQjt2fH9ZgYX9LZh60Z_jK4CRY='"
      ]
     },
     "execution_count": 29,
     "metadata": {},
     "output_type": "execute_result"
    }
   ],
   "source": [
    "enc = encrypt_msg(\"Hello poolni gediya\".encode('utf-8'), key)\n",
    "enc"
   ]
  },
  {
   "cell_type": "code",
   "execution_count": 31,
   "id": "995b1a90",
   "metadata": {},
   "outputs": [
    {
     "data": {
      "text/plain": [
       "'Hello poolni gediya'"
      ]
     },
     "execution_count": 31,
     "metadata": {},
     "output_type": "execute_result"
    }
   ],
   "source": [
    "dec = decrypt_msg(enc, key)\n",
    "dec.decode('utf-8')"
   ]
  },
  {
   "cell_type": "code",
   "execution_count": 32,
   "id": "fe288315",
   "metadata": {},
   "outputs": [
    {
     "data": {
      "text/plain": [
       "b'hjiFms070J1d3WZ2YSSoXoLADI6bg9ZTGAegmLTEzjg='"
      ]
     },
     "execution_count": 32,
     "metadata": {},
     "output_type": "execute_result"
    }
   ],
   "source": [
    "key"
   ]
  },
  {
   "cell_type": "code",
   "execution_count": 33,
   "id": "c47c1ecd",
   "metadata": {},
   "outputs": [
    {
     "name": "stdout",
     "output_type": "stream",
     "text": [
      " Volume in drive E is SSD volume\n",
      " Volume Serial Number is FA50-0540\n",
      "\n",
      " Directory of E:\\codes_projects\\python\\Fusion\\TeamFusion\\Communication\\client\\libs\n",
      "\n",
      "05/07/2022  04:37 PM    <DIR>          .\n",
      "05/07/2022  04:37 PM    <DIR>          ..\n",
      "05/07/2022  04:05 PM    <DIR>          .ipynb_checkpoints\n",
      "05/07/2022  04:43 PM             8,280 client.py\n",
      "10/28/2020  10:45 AM               935 colors.py\n",
      "10/28/2020  02:20 PM             1,092 cryption.py\n",
      "05/07/2022  04:37 PM             6,023 Untitled.ipynb\n",
      "05/07/2022  04:43 PM    <DIR>          __pycache__\n",
      "               4 File(s)         16,330 bytes\n",
      "               4 Dir(s)  132,354,363,392 bytes free\n"
     ]
    }
   ],
   "source": [
    "!dir"
   ]
  },
  {
   "cell_type": "code",
   "execution_count": 34,
   "id": "68b47d85",
   "metadata": {},
   "outputs": [
    {
     "ename": "ModuleNotFoundError",
     "evalue": "No module named 'libs.colors'",
     "output_type": "error",
     "traceback": [
      "\u001b[1;31m---------------------------------------------------------------------------\u001b[0m",
      "\u001b[1;31mModuleNotFoundError\u001b[0m                       Traceback (most recent call last)",
      "Input \u001b[1;32mIn [34]\u001b[0m, in \u001b[0;36m<module>\u001b[1;34m\u001b[0m\n\u001b[1;32m----> 1\u001b[0m \u001b[38;5;28;01mfrom\u001b[39;00m \u001b[38;5;21;01mclient\u001b[39;00m \u001b[38;5;28;01mimport\u001b[39;00m Client\n",
      "File \u001b[1;32mE:\\codes_projects\\python\\Fusion\\TeamFusion\\Communication\\client\\libs\\client.py:4\u001b[0m, in \u001b[0;36m<module>\u001b[1;34m\u001b[0m\n\u001b[0;32m      2\u001b[0m \u001b[38;5;28;01mimport\u001b[39;00m \u001b[38;5;21;01msocket\u001b[39;00m\n\u001b[0;32m      3\u001b[0m \u001b[38;5;28;01mimport\u001b[39;00m \u001b[38;5;21;01mthreading\u001b[39;00m\n\u001b[1;32m----> 4\u001b[0m \u001b[38;5;28;01mfrom\u001b[39;00m \u001b[38;5;21;01mlibs\u001b[39;00m\u001b[38;5;21;01m.\u001b[39;00m\u001b[38;5;21;01mcolors\u001b[39;00m \u001b[38;5;28;01mimport\u001b[39;00m COLORS\n\u001b[0;32m      5\u001b[0m \u001b[38;5;28;01mfrom\u001b[39;00m \u001b[38;5;21;01mplatform\u001b[39;00m \u001b[38;5;28;01mimport\u001b[39;00m system\n\u001b[0;32m      7\u001b[0m \u001b[38;5;28;01mfrom\u001b[39;00m \u001b[38;5;21;01mos\u001b[39;00m \u001b[38;5;28;01mimport\u001b[39;00m remove\n",
      "\u001b[1;31mModuleNotFoundError\u001b[0m: No module named 'libs.colors'"
     ]
    }
   ],
   "source": [
    "from client import Client"
   ]
  },
  {
   "cell_type": "code",
   "execution_count": 37,
   "id": "5964897b",
   "metadata": {},
   "outputs": [],
   "source": [
    "class Client():\n",
    "    def __init__(self, client_id, server, port):\n",
    "        \"\"\"\n",
    "        DOCSTRING: this function will initalize all the global varables for the class\n",
    "        client_id: this is the user name of the server\n",
    "        server   : this is the IP address of the server to be connecter\n",
    "        port     : this is the PORT of the server to be connected\n",
    "        \"\"\"\n",
    "        self.passwd = 'A4nJ!dk@12en#jfdk*kjns.sdjk'\n",
    "        self.key = self.key_gen(self.passwd)\n",
    "        self.buffer = 64\n",
    "        self.client_id = client_id\n",
    "        self.server = server\n",
    "        self.port = port\n",
    "        self.addr = (self.server, self.port)\n",
    "\n",
    "\n",
    "    def key_gen(self, passwd):\n",
    "        # convert passwd to bytes\n",
    "        passwd = passwd.encode('utf-8')\n",
    "        # create a random salt from os\n",
    "        salt = b'\\xd1\\xafy\\x8d\\xd1/\\xa1Pv4\\xea\\xf1-1\\xe0~\\xb2$\\x17D\\xdd\\xa7\\x8fwrmd\\x02\\x7f`f:'\n",
    "        # create kdf instance\n",
    "        kdf = PBKDF2HMAC(\n",
    "            algorithm=hashes.SHA256(),\n",
    "            length=32,\n",
    "            salt=salt,\n",
    "            iterations=100000,\n",
    "            backend=default_backend()\n",
    "        )\n",
    "        # derive an key prom the passwd\n",
    "        key = urlsafe_b64encode(kdf.derive(passwd))\n",
    "        #return key\n",
    "        return key\n",
    "\n",
    "    def decrypt(self, message):\n",
    "        \"\"\"\n",
    "        DOCSTRING: This function will return the decrypted message as string\n",
    "        message: the message to decrypt as string\n",
    "        key: key for decryption as bytes\n",
    "        \"\"\"\n",
    "        fernet_obj = Fernet(self.key) # create fernet obj\n",
    "        original_content = fernet_obj.decrypt(message.encode('utf-8'))\n",
    "\n",
    "        return original_content.decode('utf-8')\n",
    "\n",
    "    def encrypt(self, message):\n",
    "        \"\"\"\n",
    "        DOCSTRING: This function will return the encrypted message as string\n",
    "        message: the message to encrypt as string\n",
    "        key: key for encryption as bytes\n",
    "        \"\"\"\n",
    "        fernet_obj = Fernet(self.key)\n",
    "        encrypted_message = fernet_obj.encrypt(message.encode('utf-8'))\n",
    "\n",
    "        return encrypted_message.decode('utf-8')"
   ]
  },
  {
   "cell_type": "code",
   "execution_count": 38,
   "id": "5ab32509",
   "metadata": {},
   "outputs": [],
   "source": [
    "c = Client('yasiru', '192.168.1.56', 5151)"
   ]
  },
  {
   "cell_type": "code",
   "execution_count": 39,
   "id": "42e2ff41",
   "metadata": {},
   "outputs": [],
   "source": [
    "message = 'some message'"
   ]
  },
  {
   "cell_type": "code",
   "execution_count": 43,
   "id": "8093315e",
   "metadata": {},
   "outputs": [
    {
     "data": {
      "text/plain": [
       "'A4nJ!dk@12en#jfdk*kjns.sdjk'"
      ]
     },
     "execution_count": 43,
     "metadata": {},
     "output_type": "execute_result"
    }
   ],
   "source": [
    "c.passwd"
   ]
  },
  {
   "cell_type": "code",
   "execution_count": 48,
   "id": "1a2eb369",
   "metadata": {},
   "outputs": [],
   "source": [
    "msg = 'gAAAAABidlv37fZIC9G_MbZCu1vHZE6Si3XNinxrw53p5twGdvsQXWrZnFMp3z5lC8it0fBfwhr871XBizjxh_7rQOSl9PBuLw=='"
   ]
  },
  {
   "cell_type": "code",
   "execution_count": 50,
   "id": "a30e5288",
   "metadata": {},
   "outputs": [
    {
     "data": {
      "text/plain": [
       "'fuck you'"
      ]
     },
     "execution_count": 50,
     "metadata": {},
     "output_type": "execute_result"
    }
   ],
   "source": [
    "c.decrypt(msg)"
   ]
  },
  {
   "cell_type": "code",
   "execution_count": null,
   "id": "83ca0e6b",
   "metadata": {},
   "outputs": [],
   "source": []
  },
  {
   "cell_type": "code",
   "execution_count": null,
   "id": "0b232535",
   "metadata": {},
   "outputs": [],
   "source": []
  },
  {
   "cell_type": "code",
   "execution_count": null,
   "id": "f07ac284",
   "metadata": {},
   "outputs": [],
   "source": []
  },
  {
   "cell_type": "code",
   "execution_count": null,
   "id": "123cd1a1",
   "metadata": {},
   "outputs": [],
   "source": []
  },
  {
   "cell_type": "code",
   "execution_count": null,
   "id": "cf04f340",
   "metadata": {},
   "outputs": [],
   "source": []
  },
  {
   "cell_type": "code",
   "execution_count": null,
   "id": "ecc20c8e",
   "metadata": {},
   "outputs": [],
   "source": []
  },
  {
   "cell_type": "code",
   "execution_count": null,
   "id": "1d444544",
   "metadata": {},
   "outputs": [],
   "source": []
  },
  {
   "cell_type": "code",
   "execution_count": null,
   "id": "d95b0fad",
   "metadata": {},
   "outputs": [],
   "source": []
  },
  {
   "cell_type": "code",
   "execution_count": null,
   "id": "4de24704",
   "metadata": {},
   "outputs": [],
   "source": []
  },
  {
   "cell_type": "code",
   "execution_count": null,
   "id": "9692648b",
   "metadata": {},
   "outputs": [],
   "source": []
  },
  {
   "cell_type": "code",
   "execution_count": null,
   "id": "24305874",
   "metadata": {},
   "outputs": [],
   "source": []
  },
  {
   "cell_type": "code",
   "execution_count": null,
   "id": "2b953e8b",
   "metadata": {},
   "outputs": [],
   "source": [
    "{\"results\":{\"sunrise\":\"12:54:11 AM\",\"sunset\":\"12:48:33 PM\",\"solar_noon\":\"6:51:22 AM\",\"day_length\":\"11:54:22\",\"civil_twilight_begin\":\"12:33:50 AM\",\"civil_twilight_end\":\"1:08:54 PM\",\"nautical_twilight_begin\":\"12:08:58 AM\",\"nautical_twilight_end\":\"1:33:46 PM\",\"astronomical_twilight_begin\":\"11:44:08 PM\",\"astronomical_twilight_end\":\"1:58:36 PM\"},\n",
    "                                                                                \"status\":\"OK\"}\""
   ]
  },
  {
   "cell_type": "code",
   "execution_count": null,
   "id": "4a58b383",
   "metadata": {},
   "outputs": [],
   "source": []
  },
  {
   "cell_type": "code",
   "execution_count": 2,
   "id": "c8bc04dd",
   "metadata": {},
   "outputs": [],
   "source": [
    "data = {\n",
    "    \"results\" : {\"temp\":\"25,24,26,27,29,30\", \"PH\":\"7,7,6.7,6,5,6.7\", \"wind\":\"0,10,12,13,10,10\"},\n",
    "    \"status\":\"OK\"\n",
    "}"
   ]
  },
  {
   "cell_type": "code",
   "execution_count": 3,
   "id": "b30bb840",
   "metadata": {},
   "outputs": [],
   "source": [
    "import json"
   ]
  },
  {
   "cell_type": "code",
   "execution_count": 4,
   "id": "73416841",
   "metadata": {},
   "outputs": [
    {
     "data": {
      "text/plain": [
       "'{\"results\": {\"temp\": \"25,24,26,27,29,30\", \"PH\": \"7,7,6.7,6,5,6.7\", \"wind\": \"0,10,12,13,10,10\"}, \"status\": \"OK\"}'"
      ]
     },
     "execution_count": 4,
     "metadata": {},
     "output_type": "execute_result"
    }
   ],
   "source": [
    "json.dumps(data)"
   ]
  },
  {
   "cell_type": "code",
   "execution_count": 7,
   "id": "814e3504",
   "metadata": {},
   "outputs": [],
   "source": [
    "import numpy as np"
   ]
  },
  {
   "cell_type": "code",
   "execution_count": 72,
   "id": "d1da2316",
   "metadata": {},
   "outputs": [],
   "source": [
    "temp = \"\"\n",
    "PH = \"\"\n",
    "wind = \"\"\n",
    "\n",
    "t_data = np.random.randint(20, 40, size = (6))\n",
    "p_data = np.random.randint(50, 80, size = (6)) / 10\n",
    "w_data = np.random.randint(0, 40, size = (6))\n",
    "for i in range(6):\n",
    "    temp += str(t_data[i])\n",
    "    PH += str(p_data[i])\n",
    "    wind += str(w_data[i])\n",
    "    if i != 5:\n",
    "        temp += \",\"\n",
    "        PH += \",\"\n",
    "        wind += \",\""
   ]
  },
  {
   "cell_type": "code",
   "execution_count": 73,
   "id": "73cb353e",
   "metadata": {},
   "outputs": [],
   "source": [
    "data = {\n",
    "        \"results\" : {\"temp\":temp, \"PH\":PH, \"wind\":wind},\n",
    "        \"status\":\"OK\"\n",
    "    }"
   ]
  },
  {
   "cell_type": "code",
   "execution_count": 75,
   "id": "9abb7550",
   "metadata": {},
   "outputs": [
    {
     "data": {
      "text/plain": [
       "'{\"results\": {\"temp\": \"33,30,32,35,35,28\", \"PH\": \"5.5,6.0,7.5,6.8,7.1,5.4\", \"wind\": \"3,9,5,2,8,18\"}, \"status\": \"OK\"}'"
      ]
     },
     "execution_count": 75,
     "metadata": {},
     "output_type": "execute_result"
    }
   ],
   "source": [
    "data = json.dumps(data)\n",
    "data"
   ]
  },
  {
   "cell_type": "code",
   "execution_count": 18,
   "id": "e6d2987b",
   "metadata": {},
   "outputs": [
    {
     "data": {
      "text/plain": [
       "'19,37,12,15,32,15'"
      ]
     },
     "execution_count": 18,
     "metadata": {},
     "output_type": "execute_result"
    }
   ],
   "source": [
    "wind"
   ]
  },
  {
   "cell_type": "code",
   "execution_count": 20,
   "id": "23ea520b",
   "metadata": {},
   "outputs": [],
   "source": [
    "import mysql.connector"
   ]
  },
  {
   "cell_type": "code",
   "execution_count": 40,
   "id": "50bab3db",
   "metadata": {},
   "outputs": [],
   "source": [
    "mydb = mysql.connector.connect(\n",
    "    host=\"localhost\",\n",
    "    user=\"root\",\n",
    "    password=\"\",\n",
    "    database=\"fusion\"\n",
    ")"
   ]
  },
  {
   "cell_type": "code",
   "execution_count": 31,
   "id": "8da532a6",
   "metadata": {},
   "outputs": [],
   "source": [
    "mycursor = mydb.cursor()\n",
    "\n",
    "mycursor.execute(\"SELECT * FROM samplers\")\n",
    "\n",
    "myresult = mycursor.fetchall()\n"
   ]
  },
  {
   "cell_type": "code",
   "execution_count": 32,
   "id": "d32b7139",
   "metadata": {},
   "outputs": [
    {
     "data": {
      "text/plain": [
       "[(1, 'Sam220507_12', 79.880653, 6.79326),\n",
       " (2, 'Sam220507_23', 80.783943, 6.96861),\n",
       " (3, 'Sam220507_31', 4.469936, 50.503887)]"
      ]
     },
     "execution_count": 32,
     "metadata": {},
     "output_type": "execute_result"
    }
   ],
   "source": [
    "myresult"
   ]
  },
  {
   "cell_type": "code",
   "execution_count": 70,
   "id": "e9648ff9",
   "metadata": {},
   "outputs": [],
   "source": [
    "mycursor = mydb.cursor()\n",
    "\n",
    "mycursor.execute(ins_cmd)\n",
    "\n",
    "# myresult = mycursor.fetchall()"
   ]
  },
  {
   "cell_type": "code",
   "execution_count": 46,
   "id": "0c84bb7f",
   "metadata": {},
   "outputs": [
    {
     "data": {
      "text/plain": [
       "[(1,\n",
       "  1,\n",
       "  'Sam220507_12',\n",
       "  datetime.date(2022, 5, 7),\n",
       "  datetime.timedelta(seconds=82305),\n",
       "  '{\"results\": {\"temp\": \"33,24,31,34,28,21\", \"PH\": \"7.3,5.0,5.9,5.1,6.5,7.3\", \"wind\": \"19,37,12,15,32,15\"}, \"status\": \"OK\"}')]"
      ]
     },
     "execution_count": 46,
     "metadata": {},
     "output_type": "execute_result"
    }
   ],
   "source": [
    "myresult"
   ]
  },
  {
   "cell_type": "code",
   "execution_count": 76,
   "id": "d0eacbb1",
   "metadata": {},
   "outputs": [],
   "source": [
    "ins_cmd = \"INSERT INTO `climate_data`(`client_inc_id`, `client_id`, `date`, `time`, `data`) VALUES (1, 'Sam220507_12', '2022-05-07', '23:34:38', '{}')\".format(data)"
   ]
  },
  {
   "cell_type": "code",
   "execution_count": 77,
   "id": "71aaadfa",
   "metadata": {},
   "outputs": [
    {
     "name": "stdout",
     "output_type": "stream",
     "text": [
      "INSERT INTO `climate_data`(`client_inc_id`, `client_id`, `date`, `time`, `data`) VALUES (1, 'Sam220507_12', '2022-05-07', '23:34:38', '{\"results\": {\"temp\": \"33,30,32,35,35,28\", \"PH\": \"5.5,6.0,7.5,6.8,7.1,5.4\", \"wind\": \"3,9,5,2,8,18\"}, \"status\": \"OK\"}'')\n"
     ]
    }
   ],
   "source": [
    "print(ins_cmd)"
   ]
  },
  {
   "cell_type": "code",
   "execution_count": 71,
   "id": "3fdda117",
   "metadata": {},
   "outputs": [],
   "source": [
    "\n",
    "mydb.commit()"
   ]
  },
  {
   "cell_type": "code",
   "execution_count": 80,
   "id": "1c6f6a03",
   "metadata": {},
   "outputs": [],
   "source": [
    "from datetime import datetime"
   ]
  },
  {
   "cell_type": "code",
   "execution_count": 82,
   "id": "c8c218c1",
   "metadata": {},
   "outputs": [
    {
     "data": {
      "text/plain": [
       "'23:48:37'"
      ]
     },
     "execution_count": 82,
     "metadata": {},
     "output_type": "execute_result"
    }
   ],
   "source": [
    "datetime.now().strftime(\"%H:%M:%S\")"
   ]
  },
  {
   "cell_type": "code",
   "execution_count": 85,
   "id": "c60bec20",
   "metadata": {},
   "outputs": [
    {
     "data": {
      "text/plain": [
       "'2022-05-07'"
      ]
     },
     "execution_count": 85,
     "metadata": {},
     "output_type": "execute_result"
    }
   ],
   "source": [
    "datetime.now().strftime(\"%Y-%m-%d\")"
   ]
  },
  {
   "cell_type": "code",
   "execution_count": null,
   "id": "df48b1a7",
   "metadata": {},
   "outputs": [],
   "source": []
  }
 ],
 "metadata": {
  "kernelspec": {
   "display_name": "Python 3",
   "language": "python",
   "name": "python3"
  },
  "language_info": {
   "codemirror_mode": {
    "name": "ipython",
    "version": 3
   },
   "file_extension": ".py",
   "mimetype": "text/x-python",
   "name": "python",
   "nbconvert_exporter": "python",
   "pygments_lexer": "ipython3",
   "version": "3.10.2"
  }
 },
 "nbformat": 4,
 "nbformat_minor": 5
}
